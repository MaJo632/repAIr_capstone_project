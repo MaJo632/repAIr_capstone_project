{
 "cells": [
  {
   "cell_type": "markdown",
   "metadata": {},
   "source": [
    "### Notebook for testing and constructing the retrieval of documents from ifixit\n",
    "##### Features\n",
    "\n",
    "- _write_searchphrase_ (arg: search_info, returns: search_phrase): rewriting info (str) into search query\n",
    "- _load_guides_ (arg: search_phrase, returns: guides): loading guides from ifixit using search phrase, stripping words if no guides are found\n",
    "- _load_ifixit_guides_ (arg: search_info, returns: guides): both functions combined"
   ]
  },
  {
   "cell_type": "code",
   "execution_count": 6,
   "metadata": {},
   "outputs": [],
   "source": [
    "#development\n",
    "from dotenv import load_dotenv\n",
    "import os\n",
    "from groq import Groq\n",
    "import warnings\n",
    "warnings.filterwarnings(\"ignore\")\n",
    "#production\n",
    "from langchain_community.document_loaders import IFixitLoader\n",
    "from langchain_text_splitters import RecursiveCharacterTextSplitter\n",
    "from langchain_huggingface import HuggingFaceEmbeddings\n",
    "from langchain_community.vectorstores import FAISS\n",
    "from langchain.chains.combine_documents import create_stuff_documents_chain\n",
    "from langchain.chains.retrieval import create_retrieval_chain\n",
    "from langchain import hub\n",
    "from langchain.prompts.prompt import PromptTemplate\n"
   ]
  },
  {
   "cell_type": "code",
   "execution_count": 7,
   "metadata": {},
   "outputs": [],
   "source": [
    "#initialize test model\n",
    "def init_test_model():\n",
    "    load_dotenv()\n",
    "    groq_key = os.getenv('GROQ_API_KEY')\n",
    "    client = Groq(api_key=groq_key)\n",
    "    return client\n"
   ]
  },
  {
   "cell_type": "code",
   "execution_count": 8,
   "metadata": {},
   "outputs": [],
   "source": [
    "#function for rewriting info into searchphrase\n",
    "def write_searchphrase(search_info: str, debug: bool = False):\n",
    "    \"\"\"\n",
    "    Uses the LLM to rewrite input into a structured searchphrase iFixit searches.\n",
    "\n",
    "    Args:\n",
    "        search_info (str): The information to be turned into a searchphrase.\n",
    "    \"\"\"\n",
    "    chat_completion = client.chat.completions.create(\n",
    "        messages=[\n",
    "            {\"role\": \"system\",\n",
    "             \"content\": \"\"\"Rewrite the following info into a structured searchphrase for iFixit, \n",
    "             ensuring it includes in this order the device name, model and part that needs to be repaired. \n",
    "             Return only the searchphrase, do not include any other words or comments.\n",
    "             Capitalize the first letter of each word.\n",
    "             The searchphrase should be a single sentence.\"\"\"},\n",
    "            {\"role\": \"user\", \"content\": search_info},\n",
    "        ],\n",
    "        model=\"llama3-8b-8192\",\n",
    "        temperature=0\n",
    "    )\n",
    "    search_phrase = chat_completion.choices[0].message.content\n",
    "    if debug == True:\n",
    "        print('Full searchphrase:', search_phrase)\n",
    "    return search_phrase\n",
    "\n",
    "\n",
    "#load guides from iFixit\n",
    "def load_guides(search_phrase: str, debug: bool = False):\n",
    "    \"\"\"\n",
    "    Load a guide from IFixit based on the search phrase.\n",
    "    If no guide is found, iteratively remove the last word and retry.\n",
    "    \n",
    "    Args:\n",
    "        search_phrase (str): The phrase to search for in IFixit guides.\n",
    "        \n",
    "    Returns:\n",
    "        guides: The loaded guide data or None if no guide is found.\n",
    "    \"\"\"\n",
    "    words = search_phrase.split()\n",
    "    \n",
    "    while words:\n",
    "        query = \" \".join(words)\n",
    "        guides = IFixitLoader.load_suggestions(query, doc_type='guide')\n",
    "        \n",
    "        if guides:\n",
    "            if(debug == True):\n",
    "                print('Used words:', words)\n",
    "            return guides  # Return results if found\n",
    "        \n",
    "        words.pop()  # Remove the last word and retry\n",
    "\n",
    "    print('No guides found')\n",
    "    return None  # Return None if no guide is found\n",
    "\n",
    "\n",
    "#loading guides from iFixit using optimized searchphrase\n",
    "def load_ifixit_guides(search_info: str, debug: bool = False):\n",
    "\n",
    "\n",
    "    search_phrase = write_searchphrase(search_info, debug=debug)\n",
    "    guides = load_guides(search_phrase, debug=debug)\n",
    "    return guides\n",
    "\n"
   ]
  },
  {
   "cell_type": "code",
   "execution_count": 9,
   "metadata": {},
   "outputs": [
    {
     "name": "stdout",
     "output_type": "stream",
     "text": [
      "Full searchphrase: Bauknecht WMT Pro Eco 6ZB Washing Machine Repair\n",
      "Used words: ['Bauknecht', 'WMT']\n",
      "[Document(metadata={'source': 'https://www.ifixit.com/Guide/Bauknecht+WMT+EcoStar+732+Di+F-06+F06+broken+cable/161945', 'title': 'Bauknecht WMT EcoStar 732 Di F-06 F06 broken cable'}, page_content='# Bauknecht WMT EcoStar 732 Di F-06 F06 broken cable\\nError F06/ F-06 is displayed when one of the cables controlling the washing machine motor is broken at the connector diagonally below the drum.\\n\\nSolution: Either reinsert the cable into the connector (impossible without special tools) or \"bridge\" the connector.\\n\\n\\n###Tools Required:\\n\\n - Kreuzschlitz PH2\\n\\n - Sechskant Steckschlüssel 8mm\\n\\n - T20 Torx Screwdriver Bit\\n\\n - Wire Stripping Tool\\n\\n - Flush Cutter\\n\\n\\n###Parts Required:\\n\\n - Stromkabel (1-adrig)\\n\\n - Lüsterklemme\\n\\n\\n## Opening the washing machine\\nDisconnect the washing machine from the power supply\\nRemove the screws from the back of the washing machine as well as from the front (see markings in the picture).\\nRemove the side panel by first sliding the panel backwards and then folding it out.\\n\\n\\n## Bypass the broken cable\\nCheck which cable on the connector is broken/no longer connected to the connector.\\nIdentify the corresponding cable on the input side of the connector.\\nRemove the cable on the input side of the connector and strip it by approx. 3mm.\\nConnect the cable to the broken cable on the output side of the connector using a terminal block (\"bridge\" the connector).\\nWork through the steps in reverse order to reassemble your device.')]\n"
     ]
    }
   ],
   "source": [
    "#demonstration of the function\n",
    "client = init_test_model()\n",
    "guides = load_ifixit_guides(\"My washing machine is broken. It's a Bauknecht WMT Pro Eco 6ZB\", debug=True) \n",
    "print(guides)"
   ]
  }
 ],
 "metadata": {
  "kernelspec": {
   "display_name": ".venv",
   "language": "python",
   "name": "python3"
  },
  "language_info": {
   "codemirror_mode": {
    "name": "ipython",
    "version": 3
   },
   "file_extension": ".py",
   "mimetype": "text/x-python",
   "name": "python",
   "nbconvert_exporter": "python",
   "pygments_lexer": "ipython3",
   "version": "3.11.3"
  }
 },
 "nbformat": 4,
 "nbformat_minor": 2
}
