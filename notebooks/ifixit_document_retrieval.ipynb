{
 "cells": [
  {
   "cell_type": "markdown",
   "metadata": {},
   "source": [
    "### Notebook for testing and constructing the retrieval of documents from ifixit\n",
    "##### Features\n",
    "\n",
    "- _write_searchphrase_ (arg: search_info, returns: search_phrase): rewriting info (str) into search query\n",
    "- _load_guides_ (arg: search_phrase, returns: guides): loading guides from ifixit using search phrase, stripping words if no guides are found\n",
    "- _load_ifixit_guides_ (arg: search_info, returns: guides): both functions combined"
   ]
  },
  {
   "cell_type": "code",
   "execution_count": 8,
   "metadata": {},
   "outputs": [],
   "source": [
    "#development\n",
    "from dotenv import load_dotenv\n",
    "import os\n",
    "from groq import Groq\n",
    "import warnings\n",
    "warnings.filterwarnings(\"ignore\")\n",
    "#production\n",
    "from langchain_community.document_loaders import IFixitLoader\n",
    "from langchain_text_splitters import RecursiveCharacterTextSplitter\n",
    "from langchain_huggingface import HuggingFaceEmbeddings\n",
    "from langchain_community.vectorstores import FAISS\n",
    "from langchain.chains.combine_documents import create_stuff_documents_chain\n",
    "from langchain.chains.retrieval import create_retrieval_chain\n",
    "from langchain import hub\n",
    "from langchain.prompts.prompt import PromptTemplate\n"
   ]
  },
  {
   "cell_type": "code",
   "execution_count": 6,
   "metadata": {},
   "outputs": [],
   "source": [
    "#initialize test model\n",
    "def init_test_model():\n",
    "    load_dotenv()\n",
    "    groq_key = os.getenv('GROQ_API_KEY')\n",
    "    client = Groq(api_key=groq_key)\n",
    "    return client\n"
   ]
  },
  {
   "cell_type": "code",
   "execution_count": 4,
   "metadata": {},
   "outputs": [],
   "source": [
    "#function for rewriting info into searchphrase\n",
    "def write_searchphrase(search_info: str, debug: bool = False):\n",
    "    \"\"\"\n",
    "    Uses the LLM to rewrite input into a structured searchphrase iFixit searches.\n",
    "\n",
    "    Args:\n",
    "        search_info (str): The information to be turned into a searchphrase.\n",
    "    \"\"\"\n",
    "    chat_completion = client.chat.completions.create(\n",
    "        messages=[\n",
    "            {\"role\": \"system\",\n",
    "             \"content\": \"\"\"Rewrite the following info into a structured searchphrase for iFixit, \n",
    "             ensuring it includes the device type, model, broken part. Do not include any other words or comments.\"\"\"},\n",
    "            {\"role\": \"user\", \"content\": search_info},\n",
    "        ],\n",
    "        model=\"llama3-8b-8192\",\n",
    "        temperature=0\n",
    "    )\n",
    "    search_phrase = chat_completion.choices[0].message.content\n",
    "    if debug == True:\n",
    "        print('Full searchphrase:', search_phrase)\n",
    "    return search_phrase\n",
    "\n",
    "\n",
    "#load guides from iFixit\n",
    "def load_guides(search_phrase: str, debug: bool = False):\n",
    "    \"\"\"\n",
    "    Load a guide from IFixit based on the search phrase.\n",
    "    If no guide is found, iteratively remove the last word and retry.\n",
    "    \n",
    "    Args:\n",
    "        search_phrase (str): The phrase to search for in IFixit guides.\n",
    "        \n",
    "    Returns:\n",
    "        guides: The loaded guide data or None if no guide is found.\n",
    "    \"\"\"\n",
    "    words = search_phrase.split()\n",
    "    \n",
    "    while words:\n",
    "        query = \" \".join(words)\n",
    "        guides = IFixitLoader.load_suggestions(query, doc_type='guide')\n",
    "        \n",
    "        if guides:\n",
    "            if(debug == True):\n",
    "                print('Used words:', words)\n",
    "            return guides  # Return results if found\n",
    "        \n",
    "        words.pop()  # Remove the last word and retry\n",
    "\n",
    "    print('No guides found')\n",
    "    return None  # Return None if no guide is found\n",
    "\n",
    "\n",
    "#loading guides from iFixit using optimized searchphrase\n",
    "def load_ifixit_guides(search_info: str, debug: bool = False):\n",
    "\n",
    "\n",
    "    search_phrase = write_searchphrase(search_info, debug=debug)\n",
    "    guides = load_guides(search_phrase, debug=debug)\n",
    "    return guides\n",
    "\n"
   ]
  },
  {
   "cell_type": "code",
   "execution_count": 7,
   "metadata": {},
   "outputs": [
    {
     "name": "stdout",
     "output_type": "stream",
     "text": [
      "Full searchphrase: iPhone 6 Plus Screen Replacement\n",
      "Used words: ['iPhone', '6', 'Plus', 'Screen', 'Replacement']\n",
      "[Document(metadata={'source': 'https://www.ifixit.com/Guide/iPhone+6+Plus+Screen+Replacement/30265', 'title': 'iPhone 6 Plus Screen Replacement'}, page_content=\"# iPhone 6 Plus Screen Replacement\\nLearn how to replace your iPhone 6 Plus screen. This part comes with the front-facing camera, earpiece speaker and sensor cable already installed, making for an easier repair.\\n\\nAll you need to do is remove the old screen and transfer the home button to the new screen, in order for Touch ID (fingerprint scanning) to function.\\n\\n[video|https://www.youtube.com/watch?v=5w-08cn6ufw]\\n\\n\\n###Tools Required:\\n\\n - P2 Pentalobe Screwdriver iPhone\\n\\n - Clampy - Anti-Clamp\\n\\n - Scissors\\n\\n - iFixit Opening Tool\\n\\n - Suction Handle\\n\\n - Tweezers\\n\\n - Phillips #000 Screwdriver\\n\\n\\n###Parts Required:\\n\\n - iPhone 6 Plus Screen\\n\\n - NuGlas Tempered Glass Screen Protector for iPhone 6 Plus/6s Plus\\n\\n - iPhone 6 Plus Front Panel Assembly Cable Bracket\\n\\n\\n## Step 1\\nBefore disassembling your iPhone, discharge the battery below 25%. A charged lithium-ion battery can catch fire and/or explode if accidentally punctured.\\nPower off your iPhone before beginning disassembly.\\nRemove the two 3.6 mm P2 Pentalobe screws next to the Lightning connector.\\n\\n\\n## Step 1\\nIf your display glass is cracked, keep further breakage contained and prevent bodily harm during your repair by taping over the glass.\\nLay overlapping strips of clear packing tape over the iPhone's display until the whole face is covered.\\nThis will keep glass shards contained and provide structural integrity when prying and lifting the display.\\nWear safety glasses to protect your eyes from any glass shaken free during the repair.\\nIf the broken glass makes it difficult to get a suction cup to stick in the next few steps, try folding a strong piece of tape (such as duct tape) into a handle and lifting the display with that instead.\\n\\n\\n## Anti-Clamp instructions\\nThe next two steps demonstrate the [product|IF145-513|Anti-Clamp], a tool we designed to make the opening procedure easier. ***If you aren't using the Anti-Clamp, skip down three steps for an alternate method.***\\nFor complete instructions on how to use the Anti-Clamp, [guide|152309|check out this guide|new_window=true].\\nPull the blue handle backwards to unlock the Anti-Clamp's arms.\\nSlide the arms over either the left or right edge of your iPhone.\\nPosition the suction cups near the bottom edge of the iPhone just above the home button—one on the front, and one on the back.\\nSqueeze the cups together to apply suction to the desired area.\\nIf you find that the surface of your iPhone is too slippery for the Anti-Clamp to hold onto, you can [guide|159595|use tape|new_window=true] to create a grippier surface.\\n\\n\\n## Step 2\\nPull the blue handle forwards to lock the arms.\\nTurn the handle clockwise 360 degrees or until the cups start to stretch.\\nMake sure the suction cups [link|https://guide-images.cdn.ifixit.com/igi/BSluctHhVVqhGtfj.full|new_window=true|remain aligned with each other]. If they begin to slip out of alignment, loosen the suction cups slightly and realign the arms.\\nInsert an opening pick or tool under the screen when the Anti-Clamp creates a large enough gap.\\nIf the Anti-Clamp doesn't create a sufficient gap, rotate the handle a quarter turn.\\n***Don't crank more than a quarter turn at a time, and wait a few seconds between turns.*** Let the Anti-Clamp and time do the work for you.\\n***Skip the next three steps.***\\n\\n\\n## Step 1\\nUse a single suction cup to lift the front panel:\\nPress a suction cup onto the screen, just above the home button.\\nBe sure the cup is pressed securely onto the screen to get a tight seal.\\nIf your display is badly cracked, [https://www.ifixit.com/Guide/Taping+Over+The+Display/103487|covering it with a layer of clear packing tape|new_window=true] may allow the suction cup to adhere. Alternatively, very strong tape may be used instead of the suction cup. If all else fails, you can superglue the suction cup to the broken screen.\\n\\n\\n## Step 2\\nWhile holding the iPhone down with one hand, pull up on the suction cup to slightly separate the front panel assembly from the rear case.\\nTake your time and apply firm, constant force. The display assembly is a much tighter fit than most devices.\\nUsing a plastic opening tool, begin to gently pry the rear case down, away from the display assembly, while continuing to pull up with the suction cup.\\nThere are several clips attaching the front panel assembly to the rear case, so you may need to use a combination of the suction cup and plastic opening tool to free the front panel assembly.\\n\\n\\n## Step 3\\nPull the plastic nub to release the vacuum seal on the suction cup.\\nRemove the suction cup from the display assembly.\\n\\n\\n## Step 4\\nPull the home button end of the front panel assembly away from the rear case, using the top of the phone as a hinge.\\nOpen the display to about a 90º angle, and lean it against something to keep it propped up while you're working on the phone.\\nAdd a rubber band to keep the display securely in place while you work. This prevents undue strain on the display cables.\\nIn a pinch, you can use an unopened canned beverage to hold the display.\\n\\n\\n## Step 5\\nSeveral clips along the top edge of the front panel form a partial hinge, allowing the front panel assembly to swing open like a book.\\nDuring reassembly, align the clips just below the top edge of the rear case. Then, slide the front panel upward until its top edge is flush with that of the rear case.\\n\\n\\n## Step 6\\nRemove the following Phillips screws from the battery connector bracket:\\nOne 2.3 mm screw\\nOne 3.1 mm screw\\n\\n\\n## Step 7\\nRemove the metal battery connector bracket from the iPhone.\\n\\n\\n## Step 8\\nUse a clean fingernail or the edge of an opening tool to gently pry the battery connector up from its socket on the logic board.\\nTake care to '''only''' pry up on the battery connector, and not the socket on the logic board. If you pry up on the logic board socket, you may break the connector entirely.\\n\\n\\n## Step 9\\nRemove the following Phillips screws securing the front panel assembly cable bracket:\\nThree 1.2 mm screws\\nOne 1.5 mm screw\\nOne 2.9 mm screw\\n'''Do not attempt to insert longer screws into the red marked screw holes. Doing so may result in irreparable damage to the logic board.'''\\n\\n\\n## Step 10\\nRemove the front panel assembly cable bracket from the logic board.\\n\\n\\n## Step 11\\nIn the next four steps, take care to pry up '''only''' on the cable connectors, and not on their sockets on the logic board.\\nWhile still supporting the front panel, use a fingernail or the edge of an opening tool to disconnect the front-facing camera and earpiece speaker connector.\\n\\n\\n## Step 12\\nDisconnect the home button cable connector.\\n\\n\\n## Step 13\\nMake sure the battery is disconnected before you disconnect or reconnect the cable in this step.\\nUse a plastic opening tool to disconnect the display data cable connector.\\nWhen reassembling your phone, the display data cable may pop off the connector. This can result in white lines or a blank screen when powering your phone back on. If that happens, simply reconnect the cable and power cycle your phone. The best way to power cycle your phone is to [guide|29424|disconnect and reconnect the battery connector.|stepid=69596]\\n\\n\\n## Step 14\\nFinally, disconnect the digitizer cable connector.\\nWhen reconnecting the digitizer cable, '''do not press the center of the connector'''. Press one end of the connector, then press the opposite end. Pressing in the center of the connector can bend the component and cause digitizer damage.\\n\\n\\n## Step 15\\nRemove the front panel assembly from the rear case.\\n\\n\\n## Step 1\\nRemove the two 1.8 mm Phillips screws securing the home button bracket to the front panel.\\n\\n\\n## Step 2\\nRemove the home button bracket from the front panel assembly.\\n\\n\\n## Step 3\\nUse the tip of a spudger to disconnect the home button connector from its socket on the home button cable.\\n\\n\\n## Step 4\\nCarefully wedge the tip of a spudger underneath the home button connector cable.\\nGently move the spudger across to separate the home button connector cable from the adhesive securing it to the front panel assembly.\\nIf the cable doesn't separate easily, apply heat using an [https://www.ifixit.com/Store/Parts/iOpener/IF145-198-4|iOpener|new_window=true] or hair dryer to soften the adhesive, and try again. Be careful not to damage the cable.\\n\\n\\n## Step 5\\nThe rubber gasket surrounding the home button is very thin and tears easily.\\nApply mild heat (with an [product|IF145-198-2|iOpener], heat gun, or hair dryer) to soften the adhesive securing the home button gasket.\\nUsing your fingertip, gently press up on the home button from the front side of the display assembly. Use firm, constant pressure to slowly separate the home button's rubber gasket from the front panel.\\n\\n\\n## Step 6\\nCarefully use the tip of a spudger to finish separating the home button from the front panel.\\n\\n\\n## Step 7\\nLift and remove the home button assembly off the front panel assembly.\\n\\n\\n## Step 1\\nThe screen remains.\\nCompare your new replacement part to the original part. You may need to transfer remaining components (such as the two rubber grommets at the bottom of the screen) before installing.\\nThe Touch ID function will '''ONLY''' work with your phone's original home button assembly, so you'll need to transfer the home button assembly from your old screen to your new screen to retain Touch ID.\\nYour replacement part may come with an\\xa0[https://d3nevzfk7ii3be.cloudfront.net/igi/gXF4ssVeJA5Ox42x|extra Phillips screw|new_window=true]\\xa0already installed left of the Home Button. Remove the unnecessary screw so that you can reinstall the home button bracket.\\nAfter reassembly, clean the touchscreen surface with an alcohol wipe prior to turning the iPhone back on. The alcohol helps dissipate any lingering static electricity, which can cause problems with the display.\\nAfter reassembly, connect the iPhone to an AC power source before turning it on for the first time. Once the iPhone has booted up successfully, you can disconnect the AC power.\\nTo reassemble your device, follow these instructions in reverse order.\")]\n"
     ]
    }
   ],
   "source": [
    "#demonstration of the function\n",
    "client = init_test_model()\n",
    "guides = load_ifixit_guides(\"my iphone 6 plus is broken and i need to replace the screen\", debug=True) \n",
    "print(guides)"
   ]
  }
 ],
 "metadata": {
  "kernelspec": {
   "display_name": ".venv",
   "language": "python",
   "name": "python3"
  },
  "language_info": {
   "codemirror_mode": {
    "name": "ipython",
    "version": 3
   },
   "file_extension": ".py",
   "mimetype": "text/x-python",
   "name": "python",
   "nbconvert_exporter": "python",
   "pygments_lexer": "ipython3",
   "version": "3.11.3"
  }
 },
 "nbformat": 4,
 "nbformat_minor": 2
}
