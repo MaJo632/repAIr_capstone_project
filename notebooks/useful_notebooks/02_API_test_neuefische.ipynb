{
 "cells": [
  {
   "cell_type": "markdown",
   "id": "7b861f30-ea7a-45f3-b930-a2c682d930c5",
   "metadata": {
    "tags": []
   },
   "source": [
    "# RAG with Langchain and Llama\n",
    "<hr style=\"border:2px solid black\">"
   ]
  },
  {
   "cell_type": "markdown",
   "id": "89cc97b9-f4ed-41c3-8fb6-69b1ff73ceff",
   "metadata": {},
   "source": [
    "## 1. Introduction"
   ]
  },
  {
   "cell_type": "markdown",
   "id": "67ca2c65-fdeb-48d1-9e00-b8d378efc51c",
   "metadata": {},
   "source": [
    "#### Limitations of LLMs\n",
    "\n",
    "- know nothing outside training data, e.g., up-to-date information, classified/private data\n",
    "- not specialized in specfic use cases\n",
    "- tend to hallucinate confidently, possibly leading to misinformation\n",
    "- produce black box output: do not clarify what has led to the generation of particular content"
   ]
  },
  {
   "cell_type": "markdown",
   "id": "6fb0a65b-0a38-40af-935b-1be1c5f04580",
   "metadata": {},
   "source": [
    "#### Fine Tuning\n",
    "\n",
    "- enhances model performance for specific use case through Transfer Learning with additional data\n",
    "- changes model parameters, enhancing speed and reducing cost for specific task\n",
    "- powelful tool for:\n",
    "  + incorporating non-dynamic or past data\n",
    "  + specific industries with nuances in writing style, vocabulary, terminology\n",
    "- cutoff issue persists in absence of up-to-date information"
   ]
  },
  {
   "cell_type": "markdown",
   "id": "7a49f230-1d3c-46b7-bb2a-914bdbf70045",
   "metadata": {},
   "source": [
    "#### Retrieval Augmented Generation (RAG)\n",
    "\n",
    "- increases model capabilities through:\n",
    "  + **retrieving** external and up-to-date information\n",
    "  + **augmenting** the original prompt given to the model\n",
    "  + **generating** response using context plus information\n",
    "- ground llm model parameters remain unchanged (no Transfer Learning)\n",
    "- powerful tool for making use of dynamic up-to-date information\n",
    "- white box output: provides transprency behind the model without hallucination"
   ]
  },
  {
   "cell_type": "markdown",
   "id": "fcece3d7-2c4c-4df2-ac72-364360474a53",
   "metadata": {},
   "source": [
    "#### RAG Framework\n",
    "\n",
    "<img src=\"../../images/api_test/rag.png\" width=\"950\"/>\n"
   ]
  },
  {
   "cell_type": "markdown",
   "id": "71777154-4daf-4b70-887f-f0da23d371f0",
   "metadata": {},
   "source": [
    "### Technology Stack"
   ]
  },
  {
   "cell_type": "markdown",
   "id": "32348f1f-150a-4d9f-99a5-b45002922c97",
   "metadata": {},
   "source": [
    "#### [LangChain](https://python.langchain.com/docs/introduction/)\n",
    "\n",
    "> framework for developing applications powered by LLMs"
   ]
  },
  {
   "cell_type": "markdown",
   "id": "2e3b1ed7-c7d8-4d60-ad95-a54726b4ef1b",
   "metadata": {},
   "source": [
    "#### [FAISS (Facebook AI Similarity Search)](https://ai.meta.com/tools/faiss/)\n",
    "\n",
    ">  library allowing storage of contextual embedding vectors in vector database and similarity search"
   ]
  },
  {
   "cell_type": "markdown",
   "id": "c28f80c0-8767-4f23-83cf-4b52cfa9d727",
   "metadata": {},
   "source": [
    "#### [Groq](https://groq.com/about-us/)\n",
    "\n",
    "> engine providing fast AI inference (conclusion from brand new data) in the cloud"
   ]
  },
  {
   "cell_type": "markdown",
   "id": "dba18926-7fed-4402-9eab-25bd6625b4ff",
   "metadata": {},
   "source": [
    "<hr style=\"border:2px solid black\">"
   ]
  },
  {
   "cell_type": "markdown",
   "id": "e65c1336-56b0-46bd-8e52-82c471e7b355",
   "metadata": {},
   "source": [
    "## 2. Warm Up"
   ]
  },
  {
   "cell_type": "markdown",
   "id": "e573b56e-82e5-4199-b0e5-39f11dc822f9",
   "metadata": {},
   "source": [
    "#### load credentials"
   ]
  },
  {
   "cell_type": "code",
   "execution_count": 12,
   "id": "b28865fe-2a9c-4aee-b877-905950d6b0d1",
   "metadata": {
    "tags": []
   },
   "outputs": [
    {
     "data": {
      "text/plain": [
       "True"
      ]
     },
     "execution_count": 12,
     "metadata": {},
     "output_type": "execute_result"
    }
   ],
   "source": [
    "from dotenv import load_dotenv\n",
    "import os\n",
    "from langchain_community.document_loaders import IFixitLoader\n",
    "\n",
    "load_dotenv()\n"
   ]
  },
  {
   "cell_type": "code",
   "execution_count": 13,
   "id": "535d6471",
   "metadata": {},
   "outputs": [
    {
     "name": "stdout",
     "output_type": "stream",
     "text": [
      "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\n",
      "RepairAssistant/1.0 (https://github.com/MaJo632)\n"
     ]
    }
   ],
   "source": [
    "groq_key = os.getenv('GROQ_KEY')\n",
    "USER_AGENT = os.getenv(\"USER_AGENT\")\n",
    "print(groq_key)\n",
    "print(USER_AGENT)"
   ]
  },
  {
   "cell_type": "markdown",
   "id": "0912fa18-71fc-48b3-9ffe-0ef95a928432",
   "metadata": {},
   "source": [
    "#### define llm"
   ]
  },
  {
   "cell_type": "code",
   "execution_count": 14,
   "id": "33dfb5d4-1c39-4b19-8162-29e78bacd5ac",
   "metadata": {
    "tags": []
   },
   "outputs": [],
   "source": [
    "import warnings\n",
    "warnings.filterwarnings(\"ignore\")\n",
    "from langchain_groq import ChatGroq\n",
    "\n",
    "llm = ChatGroq(\n",
    "    model=\"llama3-8b-8192\",\n",
    "    temperature=0,\n",
    "    max_tokens=None,\n",
    "    timeout=None,\n",
    "    max_retries=2,\n",
    "    api_key=groq_key\n",
    ")"
   ]
  },
  {
   "cell_type": "markdown",
   "id": "d1d9acc4-cf08-4399-8c2a-3b1f561a288b",
   "metadata": {},
   "source": [
    "#### define promt template"
   ]
  },
  {
   "cell_type": "markdown",
   "id": "f543600a-4c15-423f-a350-f0598f0e5c46",
   "metadata": {},
   "source": [
    "**What is a Prompt?**\n",
    ">- set of instructions or input for an LLM provided by a user to guide its response\n",
    ">- helps it understand the context and generate relevant and coherent language-based output"
   ]
  },
  {
   "cell_type": "code",
   "execution_count": 15,
   "id": "21c5c95f-678b-4cdf-ad83-263c1d46e638",
   "metadata": {},
   "outputs": [],
   "source": [
    "from langchain.prompts.prompt import PromptTemplate"
   ]
  },
  {
   "cell_type": "code",
   "execution_count": 16,
   "id": "ebbd8e0d-8e1a-4443-885e-904d9c03bbfd",
   "metadata": {},
   "outputs": [],
   "source": [
    "query = \"\"\"\n",
    "    given the information {information} about a device to fix:\n",
    "    1. Name the device, make, model and problem\n",
    "    2. two steps of repairing\n",
    "    \"\"\""
   ]
  },
  {
   "cell_type": "code",
   "execution_count": 17,
   "id": "47b21913-08f6-40cf-a38c-7e1ae1de0c87",
   "metadata": {
    "tags": []
   },
   "outputs": [],
   "source": [
    "prompt_template = PromptTemplate(\n",
    "    input_variables=[\"information\"],\n",
    "    template=query\n",
    ")"
   ]
  },
  {
   "cell_type": "markdown",
   "id": "3bfcca91-4eb7-4e91-a243-a707f8df9c66",
   "metadata": {},
   "source": [
    "#### define Chain"
   ]
  },
  {
   "cell_type": "markdown",
   "id": "36a38301-632a-4211-a314-3faa63ea73f9",
   "metadata": {},
   "source": [
    "**What is a Chain?**\n",
    "\n",
    "> - allows to link the output of one LLM call as the input of another"
   ]
  },
  {
   "cell_type": "code",
   "execution_count": 18,
   "id": "3af1185b-5103-4017-9c18-2a21e083e8c9",
   "metadata": {
    "tags": []
   },
   "outputs": [],
   "source": [
    "chain = prompt_template | llm"
   ]
  },
  {
   "cell_type": "markdown",
   "id": "e3746365-ec7d-49e1-b130-5dcc5db4c6f7",
   "metadata": {},
   "source": [
    "**Note:**\n",
    "The `|` symbol chains together the different components, feeding the output from one component as input into the next component.\n",
    "In this chain the user input is passed to the prompt template, then the prompt template output is passed to the model. "
   ]
  },
  {
   "cell_type": "markdown",
   "id": "d212e6c9-55e4-4a32-a947-655c42302e1c",
   "metadata": {},
   "source": [
    "#### invoke Chain"
   ]
  },
  {
   "cell_type": "code",
   "execution_count": 19,
   "id": "63494f67",
   "metadata": {},
   "outputs": [],
   "source": [
    "loader = IFixitLoader(\n",
    "    \"https://www.ifixit.com/Answers/View/318583/My+iPhone+6+is+typing+and+opening+apps+by+itself\"\n",
    ")\n",
    "data = loader.load()"
   ]
  },
  {
   "cell_type": "code",
   "execution_count": 20,
   "id": "0b77032c-4995-4263-942d-e23fd63e4008",
   "metadata": {
    "tags": []
   },
   "outputs": [],
   "source": [
    "output = chain.invoke(input={\"information\": data})"
   ]
  },
  {
   "cell_type": "code",
   "execution_count": 21,
   "id": "006664b0-cb3f-474a-976c-e9a38baedd00",
   "metadata": {},
   "outputs": [
    {
     "name": "stdout",
     "output_type": "stream",
     "text": [
      "Based on the provided information, here are the answers to your questions:\n",
      "\n",
      "**1. Name the device, make, model, and problem:**\n",
      "\n",
      "* Device: iPhone\n",
      "* Make: Apple\n",
      "* Model: iPhone 6\n",
      "* Problem: The iPhone 6 is typing and opening apps by itself, also known as \"ghost touches\" or \"self-opening apps\".\n",
      "\n",
      "**2. Two steps of repairing:**\n",
      "\n",
      "From the various answers provided, I've extracted two steps that seem to be effective in fixing the problem:\n",
      "\n",
      "**Step 1: Clean the phone and check for dust and dirt**\n",
      "\n",
      "* Hold the phone in portrait mode and twist it gently to dislodge any dust or dirt that may be affecting the screen's sensors.\n",
      "* Rest the phone for 10 minutes to allow the dust to settle.\n",
      "* Use compressed air or a soft cloth to clean the phone's ports and crevices.\n",
      "\n",
      "**Step 2: Reset the phone and replace the screen or sensors**\n",
      "\n",
      "* Reset the phone by holding the power and home buttons until the screen goes off and the Apple logo appears.\n",
      "* If the problem persists, consider replacing the screen or sensors, as suggested by some users who had success with this solution.\n",
      "\n",
      "Please note that these steps are based on user experiences and may not be applicable to all cases. It's always recommended to consult an authorized Apple repair center or a professional repair service for a proper diagnosis and repair.\n"
     ]
    }
   ],
   "source": [
    "print(output.content)"
   ]
  },
  {
   "cell_type": "markdown",
   "id": "c2419c43-750c-49d8-ba1a-490f33c09fe7",
   "metadata": {},
   "source": [
    "<hr style=\"border:2px solid black\">"
   ]
  }
 ],
 "metadata": {
  "kernelspec": {
   "display_name": ".venv",
   "language": "python",
   "name": "python3"
  },
  "language_info": {
   "codemirror_mode": {
    "name": "ipython",
    "version": 3
   },
   "file_extension": ".py",
   "mimetype": "text/x-python",
   "name": "python",
   "nbconvert_exporter": "python",
   "pygments_lexer": "ipython3",
   "version": "3.11.3"
  }
 },
 "nbformat": 4,
 "nbformat_minor": 5
}
